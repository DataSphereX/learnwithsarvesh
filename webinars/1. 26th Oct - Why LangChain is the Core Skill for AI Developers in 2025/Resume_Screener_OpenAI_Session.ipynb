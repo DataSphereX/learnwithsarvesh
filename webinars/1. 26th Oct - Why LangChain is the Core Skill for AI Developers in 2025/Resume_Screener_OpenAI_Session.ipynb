{
 "cells": [
  {
   "cell_type": "markdown",
   "id": "9b537015",
   "metadata": {},
   "source": [
    "# Resume Screener - Demo\n",
    "\n",
    "This notebook demonstrates how to build a resume screener using Python and OpenAI API. It covers environment setup, resume text extraction, screening workflow, and saving results."
   ]
  },
  {
   "cell_type": "markdown",
   "id": "0f16f14a",
   "metadata": {},
   "source": [
    "## 1. Introduction\n",
    "\n",
    "- **What is a Resume Screener?**\n",
    "  - A tool to automate the evaluation of resumes for job fit.\n",
    "- **Why use OpenAI API for screening resumes?**\n",
    "  - Leverage AI to analyze skills, experience, and fit efficiently.\n",
    "- **Session Overview**\n",
    "  - Environment setup\n",
    "  - Resume text extraction\n",
    "  - Screening workflow\n",
    "  - Saving results"
   ]
  },
  {
   "cell_type": "markdown",
   "id": "8afbc63c",
   "metadata": {},
   "source": [
    "## 2. Setting Up the Environment\n",
    "\n",
    "- Install Python and required libraries\n",
    "- Set up OpenAI API key securely\n",
    "- Recommended folder structure for the project"
   ]
  },
  {
   "cell_type": "code",
   "execution_count": null,
   "id": "0893e265",
   "metadata": {},
   "outputs": [],
   "source": [
    "# Install required libraries\n",
    "!pip install openai PyPDF2 python-docx pandas python-dotenv"
   ]
  },
  {
   "cell_type": "code",
   "execution_count": null,
   "id": "39713013",
   "metadata": {},
   "outputs": [],
   "source": [
    "# Function to extract text from a PDF file using PyPDF2\n",
    "import PyPDF2\n",
    "\n",
    "def extract_pdf_text(pdf_path):\n"
   ]
  },
  {
   "cell_type": "markdown",
   "id": "6fdb4383",
   "metadata": {},
   "source": [
    "re.sub(pattern, replacement, text) -> replaces all matches of `pattern` with `replacement`."
   ]
  },
  {
   "cell_type": "code",
   "execution_count": null,
   "id": "565af03b",
   "metadata": {},
   "outputs": [],
   "source": [
    "import re\n",
    "\n",
    "def clean_text(text):\n"
   ]
  },
  {
   "cell_type": "markdown",
   "id": "8aecd091",
   "metadata": {},
   "source": [
    "- r'..' -> raw string (tells Python not to treat \\ as escape)\n",
    "- \\x20-\\x7E -> printable ASCII characters (space to ~)\n",
    "- \\n\\r\\t -> explicitly allow newline, carriage return, and tab\n",
    "- [^ ... ] -> means \"Not these characters.\n",
    "\n",
    "- So this regex removes all characters that are not printable ASCII, newline, carriage return, or tab."
   ]
  },
  {
   "cell_type": "markdown",
   "id": "9d5df9c7",
   "metadata": {},
   "source": [
    "Pattern: \\s+\n",
    "- \\s -> whitespace (space, tab, newline)\n",
    "- + -> One or more\n",
    "\n",
    "- Replaces multiple whitespace characters with a single space"
   ]
  },
  {
   "cell_type": "code",
   "execution_count": null,
   "id": "208e68c6",
   "metadata": {},
   "outputs": [],
   "source": [
    "# Function to extract text from a DOCX file using python-docx\n",
    "from docx import Document\n",
    "\n",
    "def extract_docx_text(docx_path):\n"
   ]
  },
  {
   "cell_type": "markdown",
   "id": "5011d17d",
   "metadata": {},
   "source": [
    "## 3. Text Extraction Functions\n",
    "\n",
    "- Extract text from PDF files using PyPDF2\n",
    "- Extract text from DOCX files using python-docx\n",
    "- Clean and preprocess extracted text"
   ]
  },
  {
   "cell_type": "markdown",
   "id": "7cf8cea9",
   "metadata": {},
   "source": [
    "## 4. OpenAI API Setup\n",
    "\n",
    "- Load environment variables from .env file\n",
    "- Initialize OpenAI client\n",
    "- Verify API key is loaded correctly"
   ]
  },
  {
   "cell_type": "code",
   "execution_count": null,
   "id": "9ce7481e",
   "metadata": {},
   "outputs": [
    {
     "name": "stdout",
     "output_type": "stream",
     "text": [
      "API Key Loaded: True\n"
     ]
    }
   ],
   "source": [
    "import os\n",
    "from dotenv import load_dotenv\n",
    "import openai\n",
    "\n"
   ]
  },
  {
   "cell_type": "markdown",
   "id": "b79f3bce",
   "metadata": {},
   "source": [
    "**Recommended Folder Structure:**\n",
    "\n",
    "```\n",
    "resume_screener/\n",
    "  ├── resumes/\n",
    "  ├── results/\n",
    "  ├── main.py\n",
    "  ├── config.py\n",
    "  ├── .env\n",
    "```"
   ]
  },
  {
   "cell_type": "markdown",
   "id": "53bb59d5",
   "metadata": {},
   "source": [
    "## 5. Using OpenAI API for Screening\n",
    "\n",
    "- Design prompt for skill matching & summary\n",
    "- Call API for analysis (fit score, summary, missing skills)\n",
    "- Parse response"
   ]
  },
  {
   "cell_type": "code",
   "execution_count": null,
   "id": "3b5b7f88",
   "metadata": {},
   "outputs": [],
   "source": [
    "# Function to screen resume using OpenAI API\n",
    "\n",
    "\n",
    "def screen_resume(resume_text, job_description):\n",
    "\n",
    "    return response.choices[0].message.content"
   ]
  },
  {
   "cell_type": "markdown",
   "id": "9e98ba5e",
   "metadata": {},
   "source": [
    "## 6. Building the Screening Script\n",
    "\n",
    "- Combine extraction, API call, and results formatting\n",
    "- Run script with sample resumes\n",
    "- Save results to JSON/CSV"
   ]
  },
  {
   "cell_type": "code",
   "execution_count": null,
   "id": "eafc6961",
   "metadata": {},
   "outputs": [],
   "source": [
    "# Run screening on sample resumes and save results\n",
    "import os\n",
    "import json\n",
    "import pandas as pd\n",
    "import re\n",
    "\n",
    "# Prompt user for job description\n",
    "  # Clear any existing results\n",
    "\n",
    "# Ensure results folder exists\n",
    "\n",
    "\n",
    "# Save to JSON\n",
    "\n",
    "\n",
    "# Save to CSV\n",
    "\n",
    "\n",
    "# Create DataFrame from results if not already\n",
    "\n",
    "\n",
    "# Extract Name from filename (before first dot)\n",
    "\n",
    "def extract_fit_score(result):\n",
    " \n",
    "\n",
    "\n",
    "# Rank: 1 for highest Fit Score, 2 for next, etc.\n",
    "\n",
    "# Keep only Name, Rank, Fit Score columns\n",
    "\n",
    "\n",
    "# Save to CSV\n"
   ]
  },
  {
   "cell_type": "markdown",
   "id": "33c00414",
   "metadata": {},
   "source": [
    "## Sample Job Descriptions\n",
    "\n",
    "**Software Engineer**\n",
    "- Design, develop, and maintain software applications.\n",
    "- Required skills: Python, Java, SQL, problem-solving, teamwork.\n",
    "- Experience with cloud platforms (AWS, Azure) is a plus.\n",
    "\n",
    "**Data Analyst**\n",
    "- Analyze data sets to provide actionable insights.\n",
    "- Required skills: Excel, SQL, Python, data visualization, communication.\n",
    "- Experience with BI tools (Tableau, Power BI) preferred.\n",
    "\n",
    "**Digital Marketing Specialist**\n",
    "- Plan and execute digital marketing campaigns.\n",
    "- Required skills: SEO, SEM, Google Analytics, content creation, social media.\n",
    "- Experience with paid advertising platforms is a plus.\n",
    "\n",
    "**Project Manager**\n",
    "- Lead project teams to deliver results on time and within budget.\n",
    "- Required skills: leadership, communication, scheduling, risk management, MS Project.\n",
    "- PMP certification preferred.\n",
    "\n",
    "*Copy and paste one of these samples when prompted, or modify as needed for your use case.*"
   ]
  },
  {
   "cell_type": "markdown",
   "id": "efddab5b",
   "metadata": {},
   "source": [
    "## 7. Wrap-Up & Next Steps\n",
    "\n",
    "**Enhancements:**\n",
    "- Add job description matching\n",
    "- Rank multiple resumes\n",
    "- Create a simple UI with Streamlit or Flask"
   ]
  }
 ],
 "metadata": {
  "kernelspec": {
   "display_name": ".venv",
   "language": "python",
   "name": "python3"
  },
  "language_info": {
   "codemirror_mode": {
    "name": "ipython",
    "version": 3
   },
   "file_extension": ".py",
   "mimetype": "text/x-python",
   "name": "python",
   "nbconvert_exporter": "python",
   "pygments_lexer": "ipython3",
   "version": "3.10.11"
  }
 },
 "nbformat": 4,
 "nbformat_minor": 5
}
